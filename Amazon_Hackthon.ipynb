{
 "cells": [
  {
   "cell_type": "markdown",
   "metadata": {},
   "source": [
    "### Problem Statement\n",
    "\n",
    "            As mentioned in the problem statement, the main objective of this project to provide the recommendation of a product to a user after dividing into 2 separate clusters. These clusters helps to bring the customers with similar characteristics together. Approach for solving the above problem .\n",
    "* Dividing the customers into 2 Clusters i.e., Cluster -0 & Cluster -1.\n",
    "* Applying recommendation Engine concept to each cluster based on it’s features.\n"
   ]
  },
  {
   "cell_type": "markdown",
   "metadata": {},
   "source": [
    "### Data Description:\n",
    "\n",
    "* customer_visit_score                          : a score based on how regularly the customer visits the website\n",
    "* customer_product_search_score      : quality or price range of product that the customer searches for.\n",
    "* customer_ctr_score                            : how many of the searched links does the customer click\n",
    "* customer_stay_score                         : a score based on the time spent on an avg. by the customer\n",
    "* customer_frequency_score               : a score based on how many times in a day the customer visit the website\n",
    "* customer_product_variation_score  : a score based on how many varities of products does a customer search \n",
    "* customer_order_score                       : Score based on the no. of orders that has been succesfully delivered and not returned\n",
    "* customer_affinity_score                     : an internal overall score calculated which signifies the affinity of the customer towards the website\n",
    "* customer_category                            : the cluster/group to which the customer should belong to\n",
    "* customer_active_segment                : the categorization of the customers based on their activity\n",
    "* X_1                                                       : Anonymized feature based on loyalty of the customer\n"
   ]
  },
  {
   "cell_type": "code",
   "execution_count": 2,
   "metadata": {},
   "outputs": [
    {
     "name": "stderr",
     "output_type": "stream",
     "text": [
      "C:\\Users\\jayaprakash.balla\\AppData\\Local\\Continuum\\anaconda3\\lib\\site-packages\\sklearn\\externals\\six.py:31: FutureWarning: The module is deprecated in version 0.21 and will be removed in version 0.23 since we've dropped support for Python 2.7. Please rely on the official version of six (https://pypi.org/project/six/).\n",
      "  \"(https://pypi.org/project/six/).\", FutureWarning)\n",
      "C:\\Users\\jayaprakash.balla\\AppData\\Local\\Continuum\\anaconda3\\lib\\site-packages\\sklearn\\utils\\deprecation.py:144: FutureWarning: The sklearn.neighbors.base module is  deprecated in version 0.22 and will be removed in version 0.24. The corresponding classes / functions should instead be imported from sklearn.neighbors. Anything that cannot be imported from sklearn.neighbors is now part of the private API.\n",
      "  warnings.warn(message, FutureWarning)\n"
     ]
    }
   ],
   "source": [
    "import pandas as pd\n",
    "import numpy as np\n",
    "\n",
    "import matplotlib.pyplot as plt\n",
    "import seaborn as sns\n",
    "\n",
    "from sklearn import preprocessing\n",
    "from sklearn.compose import ColumnTransformer\n",
    "\n",
    "from imblearn.pipeline import Pipeline\n",
    " \n",
    "from sklearn.preprocessing import MinMaxScaler, StandardScaler, OneHotEncoder\n",
    "from sklearn.impute import SimpleImputer\n",
    "from imblearn.over_sampling import SMOTE\n",
    "\n",
    "from sklearn.model_selection import train_test_split, KFold, cross_val_score\n",
    "\n",
    "from sklearn.linear_model import LogisticRegression\n",
    "from sklearn.tree import DecisionTreeClassifier\n",
    "from sklearn.ensemble import RandomForestClassifier\n",
    "from sklearn.neighbors import KNeighborsClassifier\n",
    "from xgboost import XGBClassifier\n",
    "from sklearn.svm import SVC\n",
    "from sklearn.metrics import classification_report\n",
    "from sklearn.metrics import confusion_matrix\n",
    "\n",
    "from sklearn.metrics import precision_score, confusion_matrix, accuracy_score, classification_report\n",
    "\n",
    "from scipy.stats import mode\n",
    "from scipy import stats"
   ]
  },
  {
   "cell_type": "code",
   "execution_count": 3,
   "metadata": {},
   "outputs": [],
   "source": [
    "import warnings\n",
    "warnings.filterwarnings('ignore')"
   ]
  },
  {
   "cell_type": "markdown",
   "metadata": {},
   "source": [
    "### Reading the Datasets"
   ]
  },
  {
   "cell_type": "code",
   "execution_count": 4,
   "metadata": {},
   "outputs": [],
   "source": [
    "data = pd.read_csv('train.csv', index_col='customer_id')"
   ]
  },
  {
   "cell_type": "code",
   "execution_count": 5,
   "metadata": {},
   "outputs": [
    {
     "data": {
      "text/html": [
       "<div>\n",
       "<style scoped>\n",
       "    .dataframe tbody tr th:only-of-type {\n",
       "        vertical-align: middle;\n",
       "    }\n",
       "\n",
       "    .dataframe tbody tr th {\n",
       "        vertical-align: top;\n",
       "    }\n",
       "\n",
       "    .dataframe thead th {\n",
       "        text-align: right;\n",
       "    }\n",
       "</style>\n",
       "<table border=\"1\" class=\"dataframe\">\n",
       "  <thead>\n",
       "    <tr style=\"text-align: right;\">\n",
       "      <th></th>\n",
       "      <th>customer_visit_score</th>\n",
       "      <th>customer_product_search_score</th>\n",
       "      <th>customer_ctr_score</th>\n",
       "      <th>customer_stay_score</th>\n",
       "      <th>customer_frequency_score</th>\n",
       "      <th>customer_product_variation_score</th>\n",
       "      <th>customer_order_score</th>\n",
       "      <th>customer_affinity_score</th>\n",
       "      <th>customer_active_segment</th>\n",
       "      <th>X1</th>\n",
       "      <th>customer_category</th>\n",
       "    </tr>\n",
       "    <tr>\n",
       "      <th>customer_id</th>\n",
       "      <th></th>\n",
       "      <th></th>\n",
       "      <th></th>\n",
       "      <th></th>\n",
       "      <th></th>\n",
       "      <th></th>\n",
       "      <th></th>\n",
       "      <th></th>\n",
       "      <th></th>\n",
       "      <th></th>\n",
       "      <th></th>\n",
       "    </tr>\n",
       "  </thead>\n",
       "  <tbody>\n",
       "    <tr>\n",
       "      <td>csid_1</td>\n",
       "      <td>13.168425</td>\n",
       "      <td>9.447662</td>\n",
       "      <td>-0.070203</td>\n",
       "      <td>-0.139541</td>\n",
       "      <td>0.436956</td>\n",
       "      <td>4.705761</td>\n",
       "      <td>2.537985</td>\n",
       "      <td>7.959503</td>\n",
       "      <td>C</td>\n",
       "      <td>F</td>\n",
       "      <td>0</td>\n",
       "    </tr>\n",
       "    <tr>\n",
       "      <td>csid_2</td>\n",
       "      <td>17.092979</td>\n",
       "      <td>7.329056</td>\n",
       "      <td>0.153298</td>\n",
       "      <td>-0.102726</td>\n",
       "      <td>0.380340</td>\n",
       "      <td>4.205138</td>\n",
       "      <td>4.193444</td>\n",
       "      <td>17.517381</td>\n",
       "      <td>C</td>\n",
       "      <td>A</td>\n",
       "      <td>0</td>\n",
       "    </tr>\n",
       "    <tr>\n",
       "      <td>csid_3</td>\n",
       "      <td>17.505334</td>\n",
       "      <td>5.143676</td>\n",
       "      <td>0.106709</td>\n",
       "      <td>0.262834</td>\n",
       "      <td>0.417648</td>\n",
       "      <td>4.479070</td>\n",
       "      <td>3.878971</td>\n",
       "      <td>12.595155</td>\n",
       "      <td>C</td>\n",
       "      <td>BA</td>\n",
       "      <td>0</td>\n",
       "    </tr>\n",
       "    <tr>\n",
       "      <td>csid_4</td>\n",
       "      <td>31.423381</td>\n",
       "      <td>4.917740</td>\n",
       "      <td>-0.020226</td>\n",
       "      <td>-0.100526</td>\n",
       "      <td>0.778130</td>\n",
       "      <td>5.055535</td>\n",
       "      <td>2.708940</td>\n",
       "      <td>4.795073</td>\n",
       "      <td>AA</td>\n",
       "      <td>F</td>\n",
       "      <td>0</td>\n",
       "    </tr>\n",
       "    <tr>\n",
       "      <td>csid_5</td>\n",
       "      <td>11.909502</td>\n",
       "      <td>4.237073</td>\n",
       "      <td>0.187178</td>\n",
       "      <td>0.172891</td>\n",
       "      <td>0.162067</td>\n",
       "      <td>3.445247</td>\n",
       "      <td>3.677360</td>\n",
       "      <td>56.636326</td>\n",
       "      <td>C</td>\n",
       "      <td>AA</td>\n",
       "      <td>0</td>\n",
       "    </tr>\n",
       "  </tbody>\n",
       "</table>\n",
       "</div>"
      ],
      "text/plain": [
       "             customer_visit_score  customer_product_search_score  \\\n",
       "customer_id                                                        \n",
       "csid_1                  13.168425                       9.447662   \n",
       "csid_2                  17.092979                       7.329056   \n",
       "csid_3                  17.505334                       5.143676   \n",
       "csid_4                  31.423381                       4.917740   \n",
       "csid_5                  11.909502                       4.237073   \n",
       "\n",
       "             customer_ctr_score  customer_stay_score  \\\n",
       "customer_id                                            \n",
       "csid_1                -0.070203            -0.139541   \n",
       "csid_2                 0.153298            -0.102726   \n",
       "csid_3                 0.106709             0.262834   \n",
       "csid_4                -0.020226            -0.100526   \n",
       "csid_5                 0.187178             0.172891   \n",
       "\n",
       "             customer_frequency_score  customer_product_variation_score  \\\n",
       "customer_id                                                               \n",
       "csid_1                       0.436956                          4.705761   \n",
       "csid_2                       0.380340                          4.205138   \n",
       "csid_3                       0.417648                          4.479070   \n",
       "csid_4                       0.778130                          5.055535   \n",
       "csid_5                       0.162067                          3.445247   \n",
       "\n",
       "             customer_order_score  customer_affinity_score  \\\n",
       "customer_id                                                  \n",
       "csid_1                   2.537985                 7.959503   \n",
       "csid_2                   4.193444                17.517381   \n",
       "csid_3                   3.878971                12.595155   \n",
       "csid_4                   2.708940                 4.795073   \n",
       "csid_5                   3.677360                56.636326   \n",
       "\n",
       "            customer_active_segment  X1  customer_category  \n",
       "customer_id                                                 \n",
       "csid_1                            C   F                  0  \n",
       "csid_2                            C   A                  0  \n",
       "csid_3                            C  BA                  0  \n",
       "csid_4                           AA   F                  0  \n",
       "csid_5                            C  AA                  0  "
      ]
     },
     "execution_count": 5,
     "metadata": {},
     "output_type": "execute_result"
    }
   ],
   "source": [
    "data.head()"
   ]
  },
  {
   "cell_type": "code",
   "execution_count": 6,
   "metadata": {},
   "outputs": [
    {
     "name": "stdout",
     "output_type": "stream",
     "text": [
      "(10738, 11) \n",
      "\n",
      "<class 'pandas.core.frame.DataFrame'>\n",
      "Index: 10738 entries, csid_1 to csid_10738\n",
      "Data columns (total 11 columns):\n",
      "customer_visit_score                10738 non-null float64\n",
      "customer_product_search_score       10696 non-null float64\n",
      "customer_ctr_score                  10738 non-null float64\n",
      "customer_stay_score                 10701 non-null float64\n",
      "customer_frequency_score            10738 non-null float64\n",
      "customer_product_variation_score    10692 non-null float64\n",
      "customer_order_score                10672 non-null float64\n",
      "customer_affinity_score             10738 non-null float64\n",
      "customer_active_segment             10715 non-null object\n",
      "X1                                  10701 non-null object\n",
      "customer_category                   10738 non-null int64\n",
      "dtypes: float64(8), int64(1), object(2)\n",
      "memory usage: 1006.7+ KB\n",
      "None\n"
     ]
    }
   ],
   "source": [
    "print(data.shape,'\\n')\n",
    "print(data.info())"
   ]
  },
  {
   "cell_type": "markdown",
   "metadata": {},
   "source": [
    "# Description of the data"
   ]
  },
  {
   "cell_type": "code",
   "execution_count": 7,
   "metadata": {},
   "outputs": [
    {
     "data": {
      "text/html": [
       "<div>\n",
       "<style scoped>\n",
       "    .dataframe tbody tr th:only-of-type {\n",
       "        vertical-align: middle;\n",
       "    }\n",
       "\n",
       "    .dataframe tbody tr th {\n",
       "        vertical-align: top;\n",
       "    }\n",
       "\n",
       "    .dataframe thead th {\n",
       "        text-align: right;\n",
       "    }\n",
       "</style>\n",
       "<table border=\"1\" class=\"dataframe\">\n",
       "  <thead>\n",
       "    <tr style=\"text-align: right;\">\n",
       "      <th></th>\n",
       "      <th>customer_visit_score</th>\n",
       "      <th>customer_product_search_score</th>\n",
       "      <th>customer_ctr_score</th>\n",
       "      <th>customer_stay_score</th>\n",
       "      <th>customer_frequency_score</th>\n",
       "      <th>customer_product_variation_score</th>\n",
       "      <th>customer_order_score</th>\n",
       "      <th>customer_affinity_score</th>\n",
       "      <th>customer_category</th>\n",
       "    </tr>\n",
       "  </thead>\n",
       "  <tbody>\n",
       "    <tr>\n",
       "      <td>count</td>\n",
       "      <td>10738.000000</td>\n",
       "      <td>10696.000000</td>\n",
       "      <td>10738.000000</td>\n",
       "      <td>10701.000000</td>\n",
       "      <td>10738.000000</td>\n",
       "      <td>10692.000000</td>\n",
       "      <td>10672.000000</td>\n",
       "      <td>10738.000000</td>\n",
       "      <td>10738.000000</td>\n",
       "    </tr>\n",
       "    <tr>\n",
       "      <td>mean</td>\n",
       "      <td>19.060941</td>\n",
       "      <td>5.274847</td>\n",
       "      <td>0.175912</td>\n",
       "      <td>0.374230</td>\n",
       "      <td>2.376895</td>\n",
       "      <td>5.788180</td>\n",
       "      <td>3.150071</td>\n",
       "      <td>17.061836</td>\n",
       "      <td>0.120600</td>\n",
       "    </tr>\n",
       "    <tr>\n",
       "      <td>std</td>\n",
       "      <td>7.419609</td>\n",
       "      <td>1.882559</td>\n",
       "      <td>0.372829</td>\n",
       "      <td>1.222031</td>\n",
       "      <td>5.601911</td>\n",
       "      <td>2.531309</td>\n",
       "      <td>1.035416</td>\n",
       "      <td>18.762693</td>\n",
       "      <td>0.325677</td>\n",
       "    </tr>\n",
       "    <tr>\n",
       "      <td>min</td>\n",
       "      <td>0.568965</td>\n",
       "      <td>-0.161940</td>\n",
       "      <td>-0.547989</td>\n",
       "      <td>-0.462494</td>\n",
       "      <td>0.028575</td>\n",
       "      <td>2.752836</td>\n",
       "      <td>0.363338</td>\n",
       "      <td>-0.486834</td>\n",
       "      <td>0.000000</td>\n",
       "    </tr>\n",
       "    <tr>\n",
       "      <td>25%</td>\n",
       "      <td>13.518021</td>\n",
       "      <td>3.971587</td>\n",
       "      <td>0.010840</td>\n",
       "      <td>-0.027666</td>\n",
       "      <td>0.313610</td>\n",
       "      <td>4.193234</td>\n",
       "      <td>2.454017</td>\n",
       "      <td>4.530085</td>\n",
       "      <td>0.000000</td>\n",
       "    </tr>\n",
       "    <tr>\n",
       "      <td>50%</td>\n",
       "      <td>18.774109</td>\n",
       "      <td>5.218479</td>\n",
       "      <td>0.074078</td>\n",
       "      <td>0.037201</td>\n",
       "      <td>0.516830</td>\n",
       "      <td>4.842575</td>\n",
       "      <td>3.118394</td>\n",
       "      <td>12.653357</td>\n",
       "      <td>0.000000</td>\n",
       "    </tr>\n",
       "    <tr>\n",
       "      <td>75%</td>\n",
       "      <td>24.501719</td>\n",
       "      <td>6.520364</td>\n",
       "      <td>0.159606</td>\n",
       "      <td>0.179029</td>\n",
       "      <td>1.125380</td>\n",
       "      <td>6.286400</td>\n",
       "      <td>3.756566</td>\n",
       "      <td>23.114577</td>\n",
       "      <td>0.000000</td>\n",
       "    </tr>\n",
       "    <tr>\n",
       "      <td>max</td>\n",
       "      <td>47.306691</td>\n",
       "      <td>16.638243</td>\n",
       "      <td>2.679474</td>\n",
       "      <td>14.701914</td>\n",
       "      <td>52.395014</td>\n",
       "      <td>18.743836</td>\n",
       "      <td>9.090206</td>\n",
       "      <td>248.552755</td>\n",
       "      <td>1.000000</td>\n",
       "    </tr>\n",
       "  </tbody>\n",
       "</table>\n",
       "</div>"
      ],
      "text/plain": [
       "       customer_visit_score  customer_product_search_score  \\\n",
       "count          10738.000000                   10696.000000   \n",
       "mean              19.060941                       5.274847   \n",
       "std                7.419609                       1.882559   \n",
       "min                0.568965                      -0.161940   \n",
       "25%               13.518021                       3.971587   \n",
       "50%               18.774109                       5.218479   \n",
       "75%               24.501719                       6.520364   \n",
       "max               47.306691                      16.638243   \n",
       "\n",
       "       customer_ctr_score  customer_stay_score  customer_frequency_score  \\\n",
       "count        10738.000000         10701.000000              10738.000000   \n",
       "mean             0.175912             0.374230                  2.376895   \n",
       "std              0.372829             1.222031                  5.601911   \n",
       "min             -0.547989            -0.462494                  0.028575   \n",
       "25%              0.010840            -0.027666                  0.313610   \n",
       "50%              0.074078             0.037201                  0.516830   \n",
       "75%              0.159606             0.179029                  1.125380   \n",
       "max              2.679474            14.701914                 52.395014   \n",
       "\n",
       "       customer_product_variation_score  customer_order_score  \\\n",
       "count                      10692.000000          10672.000000   \n",
       "mean                           5.788180              3.150071   \n",
       "std                            2.531309              1.035416   \n",
       "min                            2.752836              0.363338   \n",
       "25%                            4.193234              2.454017   \n",
       "50%                            4.842575              3.118394   \n",
       "75%                            6.286400              3.756566   \n",
       "max                           18.743836              9.090206   \n",
       "\n",
       "       customer_affinity_score  customer_category  \n",
       "count             10738.000000       10738.000000  \n",
       "mean                 17.061836           0.120600  \n",
       "std                  18.762693           0.325677  \n",
       "min                  -0.486834           0.000000  \n",
       "25%                   4.530085           0.000000  \n",
       "50%                  12.653357           0.000000  \n",
       "75%                  23.114577           0.000000  \n",
       "max                 248.552755           1.000000  "
      ]
     },
     "execution_count": 7,
     "metadata": {},
     "output_type": "execute_result"
    }
   ],
   "source": [
    "data.describe()"
   ]
  },
  {
   "cell_type": "code",
   "execution_count": 8,
   "metadata": {},
   "outputs": [],
   "source": [
    "test_data = pd.read_csv(\"test.csv\", index_col='customer_id')"
   ]
  },
  {
   "cell_type": "code",
   "execution_count": 9,
   "metadata": {},
   "outputs": [
    {
     "data": {
      "text/html": [
       "<div>\n",
       "<style scoped>\n",
       "    .dataframe tbody tr th:only-of-type {\n",
       "        vertical-align: middle;\n",
       "    }\n",
       "\n",
       "    .dataframe tbody tr th {\n",
       "        vertical-align: top;\n",
       "    }\n",
       "\n",
       "    .dataframe thead th {\n",
       "        text-align: right;\n",
       "    }\n",
       "</style>\n",
       "<table border=\"1\" class=\"dataframe\">\n",
       "  <thead>\n",
       "    <tr style=\"text-align: right;\">\n",
       "      <th></th>\n",
       "      <th>customer_visit_score</th>\n",
       "      <th>customer_product_search_score</th>\n",
       "      <th>customer_ctr_score</th>\n",
       "      <th>customer_stay_score</th>\n",
       "      <th>customer_frequency_score</th>\n",
       "      <th>customer_product_variation_score</th>\n",
       "      <th>customer_order_score</th>\n",
       "      <th>customer_affinity_score</th>\n",
       "      <th>customer_active_segment</th>\n",
       "      <th>X1</th>\n",
       "    </tr>\n",
       "    <tr>\n",
       "      <th>customer_id</th>\n",
       "      <th></th>\n",
       "      <th></th>\n",
       "      <th></th>\n",
       "      <th></th>\n",
       "      <th></th>\n",
       "      <th></th>\n",
       "      <th></th>\n",
       "      <th></th>\n",
       "      <th></th>\n",
       "      <th></th>\n",
       "    </tr>\n",
       "  </thead>\n",
       "  <tbody>\n",
       "    <tr>\n",
       "      <td>csid_10739</td>\n",
       "      <td>22.500174</td>\n",
       "      <td>3.702145</td>\n",
       "      <td>0.118811</td>\n",
       "      <td>0.093253</td>\n",
       "      <td>0.689237</td>\n",
       "      <td>5.786842</td>\n",
       "      <td>3.748009</td>\n",
       "      <td>7.661716</td>\n",
       "      <td>B</td>\n",
       "      <td>BA</td>\n",
       "    </tr>\n",
       "    <tr>\n",
       "      <td>csid_10740</td>\n",
       "      <td>13.225950</td>\n",
       "      <td>3.600102</td>\n",
       "      <td>0.130985</td>\n",
       "      <td>0.053575</td>\n",
       "      <td>0.142756</td>\n",
       "      <td>3.940359</td>\n",
       "      <td>3.469659</td>\n",
       "      <td>33.999679</td>\n",
       "      <td>B</td>\n",
       "      <td>AA</td>\n",
       "    </tr>\n",
       "    <tr>\n",
       "      <td>csid_10741</td>\n",
       "      <td>14.603376</td>\n",
       "      <td>5.084047</td>\n",
       "      <td>-0.004651</td>\n",
       "      <td>-0.036299</td>\n",
       "      <td>0.333709</td>\n",
       "      <td>4.254662</td>\n",
       "      <td>3.855939</td>\n",
       "      <td>33.485630</td>\n",
       "      <td>B</td>\n",
       "      <td>AA</td>\n",
       "    </tr>\n",
       "    <tr>\n",
       "      <td>csid_10742</td>\n",
       "      <td>26.149905</td>\n",
       "      <td>3.025501</td>\n",
       "      <td>0.229740</td>\n",
       "      <td>0.204591</td>\n",
       "      <td>3.768405</td>\n",
       "      <td>6.942625</td>\n",
       "      <td>2.362421</td>\n",
       "      <td>0.795372</td>\n",
       "      <td>B</td>\n",
       "      <td>BA</td>\n",
       "    </tr>\n",
       "    <tr>\n",
       "      <td>csid_10743</td>\n",
       "      <td>19.810630</td>\n",
       "      <td>5.020400</td>\n",
       "      <td>-0.011347</td>\n",
       "      <td>-0.028780</td>\n",
       "      <td>0.286841</td>\n",
       "      <td>4.585513</td>\n",
       "      <td>3.278624</td>\n",
       "      <td>15.052058</td>\n",
       "      <td>C</td>\n",
       "      <td>BA</td>\n",
       "    </tr>\n",
       "  </tbody>\n",
       "</table>\n",
       "</div>"
      ],
      "text/plain": [
       "             customer_visit_score  customer_product_search_score  \\\n",
       "customer_id                                                        \n",
       "csid_10739              22.500174                       3.702145   \n",
       "csid_10740              13.225950                       3.600102   \n",
       "csid_10741              14.603376                       5.084047   \n",
       "csid_10742              26.149905                       3.025501   \n",
       "csid_10743              19.810630                       5.020400   \n",
       "\n",
       "             customer_ctr_score  customer_stay_score  \\\n",
       "customer_id                                            \n",
       "csid_10739             0.118811             0.093253   \n",
       "csid_10740             0.130985             0.053575   \n",
       "csid_10741            -0.004651            -0.036299   \n",
       "csid_10742             0.229740             0.204591   \n",
       "csid_10743            -0.011347            -0.028780   \n",
       "\n",
       "             customer_frequency_score  customer_product_variation_score  \\\n",
       "customer_id                                                               \n",
       "csid_10739                   0.689237                          5.786842   \n",
       "csid_10740                   0.142756                          3.940359   \n",
       "csid_10741                   0.333709                          4.254662   \n",
       "csid_10742                   3.768405                          6.942625   \n",
       "csid_10743                   0.286841                          4.585513   \n",
       "\n",
       "             customer_order_score  customer_affinity_score  \\\n",
       "customer_id                                                  \n",
       "csid_10739               3.748009                 7.661716   \n",
       "csid_10740               3.469659                33.999679   \n",
       "csid_10741               3.855939                33.485630   \n",
       "csid_10742               2.362421                 0.795372   \n",
       "csid_10743               3.278624                15.052058   \n",
       "\n",
       "            customer_active_segment  X1  \n",
       "customer_id                              \n",
       "csid_10739                        B  BA  \n",
       "csid_10740                        B  AA  \n",
       "csid_10741                        B  AA  \n",
       "csid_10742                        B  BA  \n",
       "csid_10743                        C  BA  "
      ]
     },
     "execution_count": 9,
     "metadata": {},
     "output_type": "execute_result"
    }
   ],
   "source": [
    "test_data.head()"
   ]
  },
  {
   "cell_type": "code",
   "execution_count": 10,
   "metadata": {},
   "outputs": [
    {
     "name": "stdout",
     "output_type": "stream",
     "text": [
      "(7160, 10) \n",
      "\n",
      "<class 'pandas.core.frame.DataFrame'>\n",
      "Index: 7160 entries, csid_10739 to csid_17898\n",
      "Data columns (total 10 columns):\n",
      "customer_visit_score                7160 non-null float64\n",
      "customer_product_search_score       7131 non-null float64\n",
      "customer_ctr_score                  7160 non-null float64\n",
      "customer_stay_score                 7144 non-null float64\n",
      "customer_frequency_score            7160 non-null float64\n",
      "customer_product_variation_score    7117 non-null float64\n",
      "customer_order_score                7119 non-null float64\n",
      "customer_affinity_score             7160 non-null float64\n",
      "customer_active_segment             7148 non-null object\n",
      "X1                                  7135 non-null object\n",
      "dtypes: float64(8), object(2)\n",
      "memory usage: 615.3+ KB\n",
      "None\n"
     ]
    }
   ],
   "source": [
    "print(test_data.shape,'\\n')\n",
    "print(test_data.info())"
   ]
  },
  {
   "cell_type": "code",
   "execution_count": 11,
   "metadata": {},
   "outputs": [
    {
     "data": {
      "text/html": [
       "<div>\n",
       "<style scoped>\n",
       "    .dataframe tbody tr th:only-of-type {\n",
       "        vertical-align: middle;\n",
       "    }\n",
       "\n",
       "    .dataframe tbody tr th {\n",
       "        vertical-align: top;\n",
       "    }\n",
       "\n",
       "    .dataframe thead th {\n",
       "        text-align: right;\n",
       "    }\n",
       "</style>\n",
       "<table border=\"1\" class=\"dataframe\">\n",
       "  <thead>\n",
       "    <tr style=\"text-align: right;\">\n",
       "      <th></th>\n",
       "      <th>customer_visit_score</th>\n",
       "      <th>customer_product_search_score</th>\n",
       "      <th>customer_ctr_score</th>\n",
       "      <th>customer_stay_score</th>\n",
       "      <th>customer_frequency_score</th>\n",
       "      <th>customer_product_variation_score</th>\n",
       "      <th>customer_order_score</th>\n",
       "      <th>customer_affinity_score</th>\n",
       "    </tr>\n",
       "  </thead>\n",
       "  <tbody>\n",
       "    <tr>\n",
       "      <td>count</td>\n",
       "      <td>7160.000000</td>\n",
       "      <td>7131.000000</td>\n",
       "      <td>7160.000000</td>\n",
       "      <td>7144.000000</td>\n",
       "      <td>7160.000000</td>\n",
       "      <td>7117.000000</td>\n",
       "      <td>7119.000000</td>\n",
       "      <td>7160.000000</td>\n",
       "    </tr>\n",
       "    <tr>\n",
       "      <td>mean</td>\n",
       "      <td>19.700385</td>\n",
       "      <td>5.385970</td>\n",
       "      <td>0.111038</td>\n",
       "      <td>0.202822</td>\n",
       "      <td>1.885588</td>\n",
       "      <td>5.444226</td>\n",
       "      <td>3.309440</td>\n",
       "      <td>19.889035</td>\n",
       "    </tr>\n",
       "    <tr>\n",
       "      <td>std</td>\n",
       "      <td>6.980932</td>\n",
       "      <td>1.779850</td>\n",
       "      <td>0.260733</td>\n",
       "      <td>0.886824</td>\n",
       "      <td>4.967213</td>\n",
       "      <td>2.336244</td>\n",
       "      <td>1.060144</td>\n",
       "      <td>20.783679</td>\n",
       "    </tr>\n",
       "    <tr>\n",
       "      <td>min</td>\n",
       "      <td>1.248385</td>\n",
       "      <td>-0.113791</td>\n",
       "      <td>-0.615134</td>\n",
       "      <td>-0.381836</td>\n",
       "      <td>0.022957</td>\n",
       "      <td>2.718819</td>\n",
       "      <td>0.620935</td>\n",
       "      <td>-0.501215</td>\n",
       "    </tr>\n",
       "    <tr>\n",
       "      <td>25%</td>\n",
       "      <td>14.250243</td>\n",
       "      <td>4.146965</td>\n",
       "      <td>0.005032</td>\n",
       "      <td>-0.033382</td>\n",
       "      <td>0.282119</td>\n",
       "      <td>4.099106</td>\n",
       "      <td>2.645399</td>\n",
       "      <td>6.910150</td>\n",
       "    </tr>\n",
       "    <tr>\n",
       "      <td>50%</td>\n",
       "      <td>19.256051</td>\n",
       "      <td>5.358104</td>\n",
       "      <td>0.063178</td>\n",
       "      <td>0.024508</td>\n",
       "      <td>0.457636</td>\n",
       "      <td>4.669433</td>\n",
       "      <td>3.254096</td>\n",
       "      <td>14.630477</td>\n",
       "    </tr>\n",
       "    <tr>\n",
       "      <td>75%</td>\n",
       "      <td>24.756843</td>\n",
       "      <td>6.579949</td>\n",
       "      <td>0.135072</td>\n",
       "      <td>0.130086</td>\n",
       "      <td>0.822750</td>\n",
       "      <td>5.665742</td>\n",
       "      <td>3.875797</td>\n",
       "      <td>26.102862</td>\n",
       "    </tr>\n",
       "    <tr>\n",
       "      <td>max</td>\n",
       "      <td>42.960500</td>\n",
       "      <td>13.678108</td>\n",
       "      <td>2.528584</td>\n",
       "      <td>13.533233</td>\n",
       "      <td>49.683739</td>\n",
       "      <td>19.095799</td>\n",
       "      <td>11.388305</td>\n",
       "      <td>257.251810</td>\n",
       "    </tr>\n",
       "  </tbody>\n",
       "</table>\n",
       "</div>"
      ],
      "text/plain": [
       "       customer_visit_score  customer_product_search_score  \\\n",
       "count           7160.000000                    7131.000000   \n",
       "mean              19.700385                       5.385970   \n",
       "std                6.980932                       1.779850   \n",
       "min                1.248385                      -0.113791   \n",
       "25%               14.250243                       4.146965   \n",
       "50%               19.256051                       5.358104   \n",
       "75%               24.756843                       6.579949   \n",
       "max               42.960500                      13.678108   \n",
       "\n",
       "       customer_ctr_score  customer_stay_score  customer_frequency_score  \\\n",
       "count         7160.000000          7144.000000               7160.000000   \n",
       "mean             0.111038             0.202822                  1.885588   \n",
       "std              0.260733             0.886824                  4.967213   \n",
       "min             -0.615134            -0.381836                  0.022957   \n",
       "25%              0.005032            -0.033382                  0.282119   \n",
       "50%              0.063178             0.024508                  0.457636   \n",
       "75%              0.135072             0.130086                  0.822750   \n",
       "max              2.528584            13.533233                 49.683739   \n",
       "\n",
       "       customer_product_variation_score  customer_order_score  \\\n",
       "count                       7117.000000           7119.000000   \n",
       "mean                           5.444226              3.309440   \n",
       "std                            2.336244              1.060144   \n",
       "min                            2.718819              0.620935   \n",
       "25%                            4.099106              2.645399   \n",
       "50%                            4.669433              3.254096   \n",
       "75%                            5.665742              3.875797   \n",
       "max                           19.095799             11.388305   \n",
       "\n",
       "       customer_affinity_score  \n",
       "count              7160.000000  \n",
       "mean                 19.889035  \n",
       "std                  20.783679  \n",
       "min                  -0.501215  \n",
       "25%                   6.910150  \n",
       "50%                  14.630477  \n",
       "75%                  26.102862  \n",
       "max                 257.251810  "
      ]
     },
     "execution_count": 11,
     "metadata": {},
     "output_type": "execute_result"
    }
   ],
   "source": [
    "test_data.describe()"
   ]
  },
  {
   "cell_type": "markdown",
   "metadata": {},
   "source": [
    "## Preprocessing the data"
   ]
  },
  {
   "cell_type": "code",
   "execution_count": 12,
   "metadata": {
    "scrolled": false
   },
   "outputs": [
    {
     "name": "stdout",
     "output_type": "stream",
     "text": [
      "customer_visit_score                10738\n",
      "customer_product_search_score       10696\n",
      "customer_ctr_score                  10738\n",
      "customer_stay_score                 10701\n",
      "customer_frequency_score            10738\n",
      "customer_product_variation_score    10692\n",
      "customer_order_score                10672\n",
      "customer_affinity_score             10738\n",
      "customer_active_segment                 5\n",
      "X1                                      5\n",
      "customer_category                       2\n",
      "dtype: int64 \n",
      "\n",
      "customer_visit_score                7160\n",
      "customer_product_search_score       7131\n",
      "customer_ctr_score                  7160\n",
      "customer_stay_score                 7144\n",
      "customer_frequency_score            7160\n",
      "customer_product_variation_score    7117\n",
      "customer_order_score                7119\n",
      "customer_affinity_score             7160\n",
      "customer_active_segment                5\n",
      "X1                                     5\n",
      "dtype: int64\n"
     ]
    }
   ],
   "source": [
    "print(data.nunique(),'\\n')\n",
    "print(test_data.nunique())"
   ]
  },
  {
   "cell_type": "code",
   "execution_count": 13,
   "metadata": {
    "scrolled": true
   },
   "outputs": [
    {
     "data": {
      "text/plain": [
       "customer_visit_score                 0\n",
       "customer_product_search_score       42\n",
       "customer_ctr_score                   0\n",
       "customer_stay_score                 37\n",
       "customer_frequency_score             0\n",
       "customer_product_variation_score    46\n",
       "customer_order_score                66\n",
       "customer_affinity_score              0\n",
       "customer_active_segment             23\n",
       "X1                                  37\n",
       "customer_category                    0\n",
       "dtype: int64"
      ]
     },
     "execution_count": 13,
     "metadata": {},
     "output_type": "execute_result"
    }
   ],
   "source": [
    "data.isna().sum()"
   ]
  },
  {
   "cell_type": "code",
   "execution_count": 14,
   "metadata": {},
   "outputs": [
    {
     "data": {
      "text/plain": [
       "customer_visit_score                 0\n",
       "customer_product_search_score       29\n",
       "customer_ctr_score                   0\n",
       "customer_stay_score                 16\n",
       "customer_frequency_score             0\n",
       "customer_product_variation_score    43\n",
       "customer_order_score                41\n",
       "customer_affinity_score              0\n",
       "customer_active_segment             12\n",
       "X1                                  25\n",
       "dtype: int64"
      ]
     },
     "execution_count": 14,
     "metadata": {},
     "output_type": "execute_result"
    }
   ],
   "source": [
    "test_data.isna().sum()"
   ]
  },
  {
   "cell_type": "code",
   "execution_count": 15,
   "metadata": {},
   "outputs": [
    {
     "name": "stdout",
     "output_type": "stream",
     "text": [
      "C     4919\n",
      "B     4430\n",
      "D      536\n",
      "AA     418\n",
      "A      412\n",
      "Name: customer_active_segment, dtype: int64\n",
      "C     3251\n",
      "B     3127\n",
      "AA     321\n",
      "A      249\n",
      "D      200\n",
      "Name: customer_active_segment, dtype: int64\n"
     ]
    }
   ],
   "source": [
    "print(data.customer_active_segment.value_counts())\n",
    "print(test_data.customer_active_segment.value_counts())"
   ]
  },
  {
   "cell_type": "code",
   "execution_count": 16,
   "metadata": {},
   "outputs": [
    {
     "name": "stdout",
     "output_type": "stream",
     "text": [
      "BA    4511\n",
      "A     2268\n",
      "F     2235\n",
      "AA    1611\n",
      "E       76\n",
      "Name: X1, dtype: int64\n",
      "BA    2810\n",
      "A     1615\n",
      "AA    1366\n",
      "F     1272\n",
      "E       72\n",
      "Name: X1, dtype: int64\n"
     ]
    }
   ],
   "source": [
    "print(data.X1.value_counts())\n",
    "print(test_data.X1.value_counts())"
   ]
  },
  {
   "cell_type": "markdown",
   "metadata": {},
   "source": [
    "## Visualizing the data"
   ]
  },
  {
   "cell_type": "markdown",
   "metadata": {},
   "source": [
    "    The visualization helps to find out the patterns in the data.Data visualizations make big and small data easier for the human brain to understand, and visualization also makes it easier to detect trends, and outliers in groups of data. The below graph shows the distribution of "
   ]
  },
  {
   "cell_type": "markdown",
   "metadata": {},
   "source": [
    "        with the help of below count_plot we will be able to get the information about count of number of '0' and '1'."
   ]
  },
  {
   "cell_type": "code",
   "execution_count": 17,
   "metadata": {},
   "outputs": [
    {
     "data": {
      "image/png": "[encoded data removed]",
      "text/plain": [
       "<Figure size 432x288 with 1 Axes>"
      ]
     },
     "metadata": {
      "needs_background": "light"
     },
     "output_type": "display_data"
    },
    {
     "name": "stdout",
     "output_type": "stream",
     "text": [
      "0    9443\n",
      "1    1295\n",
      "Name: customer_category, dtype: int64\n",
      "Percentage of prediction: 12.059973924380705 %\n"
     ]
    }
   ],
   "source": [
    "sns.countplot(x='customer_category',data=data)\n",
    "plt.show()\n",
    "\n",
    "print(data.customer_category.value_counts())\n",
    "\n",
    "count_1 = len(data[data.customer_category == 1])\n",
    "count_0 = len(data[data.customer_category == 0])\n",
    "\n",
    "percent_success = (count_1/(count_1 + count_0))*100\n",
    "\n",
    "print('Percentage of prediction:', percent_success, \"%\")"
   ]
  },
  {
   "cell_type": "markdown",
   "metadata": {},
   "source": [
    "        From the above the number of '0' is 9443 and '1' are 1295.Seems to be there is class imbalance problem.Will apply some ML techniques while processing to the model so as to get the predictions as good as possible. "
   ]
  },
  {
   "cell_type": "markdown",
   "metadata": {},
   "source": [
    "## FactorPlot for 'X1'"
   ]
  },
  {
   "cell_type": "markdown",
   "metadata": {},
   "source": [
    "    Factor_plot used to draw a categorical plot onto a FacetGrid.With the help of these we will be able to get an idea of distribution of 'X1' for 1 and 0."
   ]
  },
  {
   "cell_type": "code",
   "execution_count": 18,
   "metadata": {},
   "outputs": [
    {
     "name": "stdout",
     "output_type": "stream",
     "text": [
      "<seaborn.axisgrid.FacetGrid object at 0x00000211D88020B8>\n"
     ]
    },
    {
     "data": {
      "image/png": "[encoded data removed]",
      "text/plain": [
       "<Figure size 463.875x360 with 1 Axes>"
      ]
     },
     "metadata": {
      "needs_background": "light"
     },
     "output_type": "display_data"
    }
   ],
   "source": [
    "print(sns.factorplot('X1',data = data, hue = 'customer_category',kind = 'count'))"
   ]
  },
  {
   "cell_type": "code",
   "execution_count": 19,
   "metadata": {},
   "outputs": [
    {
     "data": {
      "text/plain": [
       "<seaborn.axisgrid.FacetGrid at 0x211d8944240>"
      ]
     },
     "execution_count": 19,
     "metadata": {},
     "output_type": "execute_result"
    },
    {
     "data": {
      "image/png": "[encoded data removed]",
      "text/plain": [
       "<Figure size 463.875x360 with 1 Axes>"
      ]
     },
     "metadata": {
      "needs_background": "light"
     },
     "output_type": "display_data"
    }
   ],
   "source": [
    "sns.factorplot('customer_active_segment',data = data, hue = 'customer_category',kind = 'count')"
   ]
  },
  {
   "cell_type": "markdown",
   "metadata": {},
   "source": [
    "    #### The 'x1' is linclied more towards to '0' which is already over sampled in the data"
   ]
  },
  {
   "cell_type": "markdown",
   "metadata": {},
   "source": [
    "# Correlation Plot\n",
    "* #### Correlation Matrix is basically a covariance matrix. Also known as the auto-covariance matrix, dispersion matrix, variance matrix, or variance-covariance matrix. It is a matrix in which i-j position defines the correlation between the ith and jth parameter of the given data-set."
   ]
  },
  {
   "cell_type": "code",
   "execution_count": 20,
   "metadata": {
    "scrolled": false
   },
   "outputs": [
    {
     "data": {
      "text/plain": [
       "<matplotlib.axes._subplots.AxesSubplot at 0x211d8944588>"
      ]
     },
     "execution_count": 20,
     "metadata": {},
     "output_type": "execute_result"
    },
    {
     "data": {
      "image/png": "[encoded data removed]",
      "text/plain": [
       "<Figure size 432x288 with 2 Axes>"
      ]
     },
     "metadata": {
      "needs_background": "light"
     },
     "output_type": "display_data"
    }
   ],
   "source": [
    "matrix = np.triu(data.corr())\n",
    "sns.heatmap(data.corr(), annot=True, linewidth=3, mask = matrix)"
   ]
  },
  {
   "cell_type": "markdown",
   "metadata": {},
   "source": [
    "* Based on the correlation of different independent variables and the relation with the Category value, it is good idea to drop  the below features , which helps the model to predict more accurately and increases precision Value ['customer_stay_score','X1','customer_active_segment','customer_visit_score','customer_product_search_score','customer_order_score','customer_affinity_score','customer_frequency_score']"
   ]
  },
  {
   "cell_type": "code",
   "execution_count": 21,
   "metadata": {},
   "outputs": [],
   "source": [
    "drop_list = ['customer_stay_score','X1','customer_active_segment','customer_visit_score','customer_product_search_score','customer_order_score','customer_affinity_score','customer_frequency_score']"
   ]
  },
  {
   "cell_type": "code",
   "execution_count": 22,
   "metadata": {},
   "outputs": [
    {
     "name": "stdout",
     "output_type": "stream",
     "text": [
      "(10738, 3)\n",
      "(7160, 2)\n"
     ]
    }
   ],
   "source": [
    "data.drop(drop_list, axis=1, inplace=True)\n",
    "test_data.drop(drop_list, axis=1, inplace=True)\n",
    "\n",
    "print(data.shape)\n",
    "print(test_data.shape)"
   ]
  },
  {
   "cell_type": "markdown",
   "metadata": {},
   "source": [
    "* #### Checking the correlation after dropping the columns that are  not very useful to check if the remaining one can be used for prediction. "
   ]
  },
  {
   "cell_type": "code",
   "execution_count": 23,
   "metadata": {},
   "outputs": [
    {
     "data": {
      "text/plain": [
       "<matplotlib.axes._subplots.AxesSubplot at 0x211d8cd8208>"
      ]
     },
     "execution_count": 23,
     "metadata": {},
     "output_type": "execute_result"
    },
    {
     "data": {
      "image/png": "[encoded data removed]",
      "text/plain": [
       "<Figure size 432x288 with 2 Axes>"
      ]
     },
     "metadata": {
      "needs_background": "light"
     },
     "output_type": "display_data"
    }
   ],
   "source": [
    "matrix = np.triu(data.corr())\n",
    "sns.heatmap(data.corr(), annot=True, linewidth=3, mask = matrix)"
   ]
  },
  {
   "cell_type": "markdown",
   "metadata": {},
   "source": [
    "## Imputing the null values"
   ]
  },
  {
   "cell_type": "code",
   "execution_count": 24,
   "metadata": {},
   "outputs": [
    {
     "name": "stdout",
     "output_type": "stream",
     "text": [
      "customer_ctr_score                   0\n",
      "customer_product_variation_score    46\n",
      "customer_category                    0\n",
      "dtype: int64 \n",
      "\n",
      "customer_ctr_score                   0\n",
      "customer_product_variation_score    43\n",
      "dtype: int64\n"
     ]
    }
   ],
   "source": [
    "print(data.isna().sum(),'\\n')\n",
    "print(test_data.isna().sum())"
   ]
  },
  {
   "cell_type": "code",
   "execution_count": 25,
   "metadata": {},
   "outputs": [
    {
     "name": "stdout",
     "output_type": "stream",
     "text": [
      "customer_ctr_score                  0\n",
      "customer_product_variation_score    0\n",
      "customer_category                   0\n",
      "dtype: int64 \n",
      "\n",
      "customer_ctr_score                  0\n",
      "customer_product_variation_score    0\n",
      "dtype: int64\n"
     ]
    }
   ],
   "source": [
    "data.fillna(data.mean(), inplace=True)\n",
    "test_data.fillna(test_data.mean(), inplace=True)\n",
    "\n",
    "print(data.isna().sum(),'\\n')\n",
    "print(test_data.isna().sum())"
   ]
  },
  {
   "cell_type": "markdown",
   "metadata": {},
   "source": [
    "# Correcting Skewness : "
   ]
  },
  {
   "cell_type": "markdown",
   "metadata": {},
   "source": [
    "* #### With the help of below distribution plot the variables which are used for predictng are not normal distributed so chaging them will help model to predict more accurately. "
   ]
  },
  {
   "cell_type": "code",
   "execution_count": 26,
   "metadata": {},
   "outputs": [
    {
     "data": {
      "text/plain": [
       "<matplotlib.axes._subplots.AxesSubplot at 0x211d9db6a20>"
      ]
     },
     "execution_count": 26,
     "metadata": {},
     "output_type": "execute_result"
    },
    {
     "data": {
      "image/png": "[encoded data removed]",
      "text/plain": [
       "<Figure size 1152x288 with 2 Axes>"
      ]
     },
     "metadata": {
      "needs_background": "light"
     },
     "output_type": "display_data"
    }
   ],
   "source": [
    "fig, axe = plt.subplots(nrows=1, ncols=2,figsize=(16,4))\n",
    "axe = axe.flatten()\n",
    "\n",
    "sns.distplot(data['customer_ctr_score'], ax=axe[0])\n",
    "sns.distplot(data['customer_product_variation_score'], ax=axe[1])"
   ]
  },
  {
   "cell_type": "code",
   "execution_count": 27,
   "metadata": {},
   "outputs": [
    {
     "name": "stdout",
     "output_type": "stream",
     "text": [
      "0.1355550802575636\n"
     ]
    }
   ],
   "source": [
    "data['customer_product_variation_score'] = stats.boxcox(data['customer_product_variation_score'])[0]\n",
    "print(data.customer_product_variation_score.skew())"
   ]
  },
  {
   "cell_type": "code",
   "execution_count": 29,
   "metadata": {},
   "outputs": [
    {
     "name": "stdout",
     "output_type": "stream",
     "text": [
      "1.0221864138721888\n"
     ]
    }
   ],
   "source": [
    "data['customer_ctr_score'] = np.log(data['customer_ctr_score']+1)\n",
    "print(data.customer_ctr_score.skew())"
   ]
  },
  {
   "cell_type": "markdown",
   "metadata": {},
   "source": [
    "* #### After correcting the skewness with the help of stats.boxcox and log functions we we able to get skewness equal to 0 and 1 for 2 columns"
   ]
  },
  {
   "cell_type": "code",
   "execution_count": 30,
   "metadata": {},
   "outputs": [
    {
     "data": {
      "text/plain": [
       "<matplotlib.axes._subplots.AxesSubplot at 0x211da130748>"
      ]
     },
     "execution_count": 30,
     "metadata": {},
     "output_type": "execute_result"
    },
    {
     "data": {
      "image/png": "[encoded data removed]",
      "text/plain": [
       "<Figure size 1152x288 with 2 Axes>"
      ]
     },
     "metadata": {
      "needs_background": "light"
     },
     "output_type": "display_data"
    }
   ],
   "source": [
    "fig, axe = plt.subplots(nrows=1, ncols=2,figsize=(16,4))\n",
    "axe = axe.flatten()\n",
    "\n",
    "sns.distplot(data['customer_ctr_score'], ax=axe[0])\n",
    "sns.distplot(data['customer_product_variation_score'], ax=axe[1])"
   ]
  },
  {
   "cell_type": "code",
   "execution_count": 31,
   "metadata": {},
   "outputs": [
    {
     "name": "stdout",
     "output_type": "stream",
     "text": [
      "customer_ctr_score                  0\n",
      "customer_product_variation_score    0\n",
      "customer_category                   0\n",
      "dtype: int64 \n",
      "\n",
      "customer_ctr_score                  0\n",
      "customer_product_variation_score    0\n",
      "dtype: int64\n"
     ]
    }
   ],
   "source": [
    "data.fillna(data.mean(), inplace=True)\n",
    "test_data.fillna(test_data.mean(), inplace=True)\n",
    "\n",
    "print(data.isna().sum(),'\\n')\n",
    "print(test_data.isna().sum())"
   ]
  },
  {
   "cell_type": "markdown",
   "metadata": {},
   "source": [
    "## Splitting the data as Train and Validation"
   ]
  },
  {
   "cell_type": "markdown",
   "metadata": {},
   "source": [
    "* #### Here comes the first step for building the model spliting the data into train and validation and which can be used for analysing the bias-variance trade-off"
   ]
  },
  {
   "cell_type": "markdown",
   "metadata": {},
   "source": [
    "* #### Standarziation of data helps us to diferent distance based algorithm's to the data available"
   ]
  },
  {
   "cell_type": "code",
   "execution_count": 32,
   "metadata": {},
   "outputs": [],
   "source": [
    "X = data.drop('customer_category',axis=1)\n",
    "Y = data.customer_category"
   ]
  },
  {
   "cell_type": "code",
   "execution_count": 33,
   "metadata": {},
   "outputs": [],
   "source": [
    "sd = MinMaxScaler()"
   ]
  },
  {
   "cell_type": "code",
   "execution_count": 34,
   "metadata": {},
   "outputs": [],
   "source": [
    "X = pd.DataFrame(sd.fit_transform(X), columns=X.columns)\n",
    "test_data = pd.DataFrame(sd.fit_transform(test_data), columns=test_data.columns)"
   ]
  },
  {
   "cell_type": "code",
   "execution_count": 35,
   "metadata": {},
   "outputs": [
    {
     "name": "stdout",
     "output_type": "stream",
     "text": [
      "(7516, 2) (7516,) \n",
      "\n",
      "(3222, 2) (3222,)\n"
     ]
    }
   ],
   "source": [
    "\n",
    "x_train, x_test, y_train, y_test = train_test_split(X, Y, test_size = 0.3, random_state = 123)\n",
    "\n",
    "print(x_train.shape, y_train.shape,'\\n')\n",
    "print(x_test.shape, y_test.shape)"
   ]
  },
  {
   "cell_type": "markdown",
   "metadata": {},
   "source": [
    "### Stacking"
   ]
  },
  {
   "cell_type": "markdown",
   "metadata": {},
   "source": [
    "* ####  Stacking is based on a simple idea: instead of using trivial functions(such as hard voting) to aggregate the predictions of all predictors in an ensemble,why don’t we train a model to perform this aggregation? for example  ensemble performing a regression task on a new instance. Each of the predictions from different model predicts a different value (3.1, 2.7, and 2.9), and then the final predictor takes these predictions as inputs and makes the final prediction (3.0)."
   ]
  },
  {
   "cell_type": "markdown",
   "metadata": {},
   "source": [
    "* #### Let's try building Logistic Regression, RandomForest, KNN,XGB Classifier for trying Stacking methods"
   ]
  },
  {
   "cell_type": "code",
   "execution_count": 36,
   "metadata": {},
   "outputs": [],
   "source": [
    "Log_Reg = LogisticRegression()  \n",
    "\n",
    "Log_Reg.fit(x_train, y_train)\n",
    "\n",
    "Log_train_pred =  Log_Reg.predict(x_train)\n",
    "Log_test_pred = Log_Reg.predict(x_test)\n",
    "\n",
    "Log_future_pred = Log_Reg.predict(test_data)"
   ]
  },
  {
   "cell_type": "code",
   "execution_count": 37,
   "metadata": {},
   "outputs": [],
   "source": [
    "RF = RandomForestClassifier()\n",
    "\n",
    "RF.fit(x_train, y_train)\n",
    "\n",
    "RF_train_pred = RF.predict(x_train)\n",
    "RF_test_pred = RF.predict(x_test)\n",
    "RF_future_pred = RF.predict(test_data)"
   ]
  },
  {
   "cell_type": "code",
   "execution_count": 38,
   "metadata": {},
   "outputs": [],
   "source": [
    "knn = KNeighborsClassifier(n_neighbors=3)  \n",
    "\n",
    "knn.fit(x_train, y_train)\n",
    "\n",
    "knn_train_pred = knn.predict(x_train)\n",
    "knn_test_pred = knn.predict(x_test)\n",
    "\n",
    "\n",
    "knn_future_pred = knn.predict(test_data)"
   ]
  },
  {
   "cell_type": "code",
   "execution_count": 39,
   "metadata": {},
   "outputs": [],
   "source": [
    "XGB = XGBClassifier()\n",
    "\n",
    "XGB.fit(x_train, y_train)\n",
    "\n",
    "xgb_train_pred = XGB.predict(x_train)\n",
    "xgb_test_pred = XGB.predict(x_test)\n",
    "\n",
    "xgb_future_pred = XGB.predict(test_data)"
   ]
  },
  {
   "cell_type": "code",
   "execution_count": 40,
   "metadata": {},
   "outputs": [],
   "source": [
    "stack_train = pd.DataFrame([Log_train_pred, RF_train_pred, knn_train_pred, xgb_train_pred])\n",
    "stack_test = pd.DataFrame([Log_test_pred, RF_test_pred, knn_test_pred, xgb_test_pred])\n",
    "stack_future = pd.DataFrame([Log_future_pred, RF_future_pred, knn_future_pred, xgb_future_pred])"
   ]
  },
  {
   "cell_type": "code",
   "execution_count": 41,
   "metadata": {},
   "outputs": [],
   "source": [
    "stack_train = stack_train.T\n",
    "stack_test = stack_test.T\n"
   ]
  },
  {
   "cell_type": "code",
   "execution_count": 42,
   "metadata": {},
   "outputs": [],
   "source": [
    "stack_future = stack_future.T"
   ]
  },
  {
   "cell_type": "code",
   "execution_count": 43,
   "metadata": {},
   "outputs": [],
   "source": [
    "stack_train.columns = ['Log_train_pred','RF_train_pred','knn_train_pred','xgb_train_pred']\n",
    "stack_test.columns = ['Log_train_pred','RF_train_pred','knn_train_pred','xgb_train_pred']\n",
    "stack_future.columns = ['Log_train_pred','RF_train_pred','knn_train_pred','xgb_train_pred']"
   ]
  },
  {
   "cell_type": "code",
   "execution_count": 44,
   "metadata": {},
   "outputs": [
    {
     "name": "stdout",
     "output_type": "stream",
     "text": [
      "(7516, 4)\n",
      "(3222, 4)\n"
     ]
    }
   ],
   "source": [
    "print(stack_train.shape)\n",
    "print(stack_test.shape)"
   ]
  },
  {
   "cell_type": "code",
   "execution_count": 45,
   "metadata": {},
   "outputs": [
    {
     "data": {
      "text/html": [
       "<div>\n",
       "<style scoped>\n",
       "    .dataframe tbody tr th:only-of-type {\n",
       "        vertical-align: middle;\n",
       "    }\n",
       "\n",
       "    .dataframe tbody tr th {\n",
       "        vertical-align: top;\n",
       "    }\n",
       "\n",
       "    .dataframe thead th {\n",
       "        text-align: right;\n",
       "    }\n",
       "</style>\n",
       "<table border=\"1\" class=\"dataframe\">\n",
       "  <thead>\n",
       "    <tr style=\"text-align: right;\">\n",
       "      <th></th>\n",
       "      <th>Log_train_pred</th>\n",
       "      <th>RF_train_pred</th>\n",
       "      <th>knn_train_pred</th>\n",
       "      <th>xgb_train_pred</th>\n",
       "    </tr>\n",
       "  </thead>\n",
       "  <tbody>\n",
       "    <tr>\n",
       "      <td>0</td>\n",
       "      <td>0</td>\n",
       "      <td>0</td>\n",
       "      <td>0</td>\n",
       "      <td>0</td>\n",
       "    </tr>\n",
       "    <tr>\n",
       "      <td>1</td>\n",
       "      <td>0</td>\n",
       "      <td>0</td>\n",
       "      <td>0</td>\n",
       "      <td>0</td>\n",
       "    </tr>\n",
       "    <tr>\n",
       "      <td>2</td>\n",
       "      <td>0</td>\n",
       "      <td>0</td>\n",
       "      <td>0</td>\n",
       "      <td>0</td>\n",
       "    </tr>\n",
       "    <tr>\n",
       "      <td>3</td>\n",
       "      <td>0</td>\n",
       "      <td>1</td>\n",
       "      <td>1</td>\n",
       "      <td>1</td>\n",
       "    </tr>\n",
       "    <tr>\n",
       "      <td>4</td>\n",
       "      <td>0</td>\n",
       "      <td>0</td>\n",
       "      <td>0</td>\n",
       "      <td>0</td>\n",
       "    </tr>\n",
       "  </tbody>\n",
       "</table>\n",
       "</div>"
      ],
      "text/plain": [
       "   Log_train_pred  RF_train_pred  knn_train_pred  xgb_train_pred\n",
       "0               0              0               0               0\n",
       "1               0              0               0               0\n",
       "2               0              0               0               0\n",
       "3               0              1               1               1\n",
       "4               0              0               0               0"
      ]
     },
     "execution_count": 45,
     "metadata": {},
     "output_type": "execute_result"
    }
   ],
   "source": [
    "stack_train.head()"
   ]
  },
  {
   "cell_type": "code",
   "execution_count": 46,
   "metadata": {},
   "outputs": [
    {
     "data": {
      "text/html": [
       "<div>\n",
       "<style scoped>\n",
       "    .dataframe tbody tr th:only-of-type {\n",
       "        vertical-align: middle;\n",
       "    }\n",
       "\n",
       "    .dataframe tbody tr th {\n",
       "        vertical-align: top;\n",
       "    }\n",
       "\n",
       "    .dataframe thead th {\n",
       "        text-align: right;\n",
       "    }\n",
       "</style>\n",
       "<table border=\"1\" class=\"dataframe\">\n",
       "  <thead>\n",
       "    <tr style=\"text-align: right;\">\n",
       "      <th></th>\n",
       "      <th>Log_train_pred</th>\n",
       "      <th>RF_train_pred</th>\n",
       "      <th>knn_train_pred</th>\n",
       "      <th>xgb_train_pred</th>\n",
       "    </tr>\n",
       "  </thead>\n",
       "  <tbody>\n",
       "    <tr>\n",
       "      <td>0</td>\n",
       "      <td>0</td>\n",
       "      <td>0</td>\n",
       "      <td>0</td>\n",
       "      <td>0</td>\n",
       "    </tr>\n",
       "    <tr>\n",
       "      <td>1</td>\n",
       "      <td>0</td>\n",
       "      <td>0</td>\n",
       "      <td>0</td>\n",
       "      <td>0</td>\n",
       "    </tr>\n",
       "    <tr>\n",
       "      <td>2</td>\n",
       "      <td>0</td>\n",
       "      <td>0</td>\n",
       "      <td>0</td>\n",
       "      <td>0</td>\n",
       "    </tr>\n",
       "    <tr>\n",
       "      <td>3</td>\n",
       "      <td>0</td>\n",
       "      <td>0</td>\n",
       "      <td>0</td>\n",
       "      <td>0</td>\n",
       "    </tr>\n",
       "    <tr>\n",
       "      <td>4</td>\n",
       "      <td>0</td>\n",
       "      <td>0</td>\n",
       "      <td>0</td>\n",
       "      <td>0</td>\n",
       "    </tr>\n",
       "  </tbody>\n",
       "</table>\n",
       "</div>"
      ],
      "text/plain": [
       "   Log_train_pred  RF_train_pred  knn_train_pred  xgb_train_pred\n",
       "0               0              0               0               0\n",
       "1               0              0               0               0\n",
       "2               0              0               0               0\n",
       "3               0              0               0               0\n",
       "4               0              0               0               0"
      ]
     },
     "execution_count": 46,
     "metadata": {},
     "output_type": "execute_result"
    }
   ],
   "source": [
    "stack_test.head()"
   ]
  },
  {
   "cell_type": "code",
   "execution_count": 47,
   "metadata": {},
   "outputs": [],
   "source": [
    "LOG = XGBClassifier()\n",
    "\n",
    "LOG.fit(stack_train,y_train)\n",
    "\n",
    "stacked_pred_train = LOG.predict(stack_train)\n",
    "stacked_pred_test = LOG.predict(stack_test)"
   ]
  },
  {
   "cell_type": "code",
   "execution_count": 48,
   "metadata": {},
   "outputs": [
    {
     "data": {
      "text/plain": [
       "array([[0, 0, 0, 0],\n",
       "       [0, 0, 0, 0],\n",
       "       [0, 0, 0, 0],\n",
       "       ...,\n",
       "       [0, 0, 0, 0],\n",
       "       [0, 0, 0, 0],\n",
       "       [0, 0, 0, 0]], dtype=int64)"
      ]
     },
     "execution_count": 48,
     "metadata": {},
     "output_type": "execute_result"
    }
   ],
   "source": [
    "stack_future.values"
   ]
  },
  {
   "cell_type": "code",
   "execution_count": 49,
   "metadata": {},
   "outputs": [
    {
     "name": "stdout",
     "output_type": "stream",
     "text": [
      "1.0\n",
      "0.9638378186568201\n"
     ]
    }
   ],
   "source": [
    "print(precision_score(y_train, stacked_pred_train, average= 'macro'))\n",
    "print(precision_score(y_test, stacked_pred_test, average = 'macro'))"
   ]
  },
  {
   "cell_type": "code",
   "execution_count": 50,
   "metadata": {},
   "outputs": [
    {
     "name": "stdout",
     "output_type": "stream",
     "text": [
      "Classification Report:\n",
      "              precision    recall  f1-score   support\n",
      "\n",
      "           0       0.98      0.99      0.99      2858\n",
      "           1       0.94      0.87      0.91       364\n",
      "\n",
      "    accuracy                           0.98      3222\n",
      "   macro avg       0.96      0.93      0.95      3222\n",
      "weighted avg       0.98      0.98      0.98      3222\n",
      "\n",
      "Confusion Matrix:\n",
      "[[2839   19]\n",
      " [  46  318]]\n"
     ]
    }
   ],
   "source": [
    "print(\"Classification Report:\")\n",
    "print(classification_report(y_test,stacked_pred_test))\n",
    "print(\"Confusion Matrix:\")\n",
    "print(confusion_matrix(y_test,stacked_pred_test))"
   ]
  },
  {
   "cell_type": "markdown",
   "metadata": {},
   "source": [
    "#  Bias - Varaince Trade-off"
   ]
  },
  {
   "cell_type": "markdown",
   "metadata": {},
   "source": [
    "        With the help of above precision score on train and validation data we would be able to get to a conclusion as the DT model is over fitting the data.\n",
    "As precision Score on Train Data  : 1.0\n",
    "                      Test  Data  : 0.95\n",
    "model is not generalized well with respect to Train and Test data.\n",
    "Which indicates it is exactly over-fitting the data"
   ]
  },
  {
   "cell_type": "code",
   "execution_count": 51,
   "metadata": {},
   "outputs": [
    {
     "name": "stdout",
     "output_type": "stream",
     "text": [
      "              precision    recall  f1-score   support\n",
      "\n",
      "           0       0.99      0.98      0.99      2885\n",
      "           1       0.87      0.94      0.91       337\n",
      "\n",
      "    accuracy                           0.98      3222\n",
      "   macro avg       0.93      0.96      0.95      3222\n",
      "weighted avg       0.98      0.98      0.98      3222\n",
      "\n"
     ]
    }
   ],
   "source": [
    "print(classification_report(stacked_pred_test,y_test))"
   ]
  },
  {
   "cell_type": "code",
   "execution_count": 52,
   "metadata": {},
   "outputs": [],
   "source": [
    "stacked_pred_future =  LOG.predict(stack_future)"
   ]
  },
  {
   "cell_type": "code",
   "execution_count": 53,
   "metadata": {},
   "outputs": [],
   "source": [
    "df  = pd.read_csv(\"test.csv\")"
   ]
  },
  {
   "cell_type": "code",
   "execution_count": 54,
   "metadata": {},
   "outputs": [
    {
     "data": {
      "text/plain": [
       "(7160, 2)"
      ]
     },
     "execution_count": 54,
     "metadata": {},
     "output_type": "execute_result"
    }
   ],
   "source": [
    "DF = pd.DataFrame(list(zip(df['customer_id'],stacked_pred_future)),columns=['customer_id','customer_category'])\n",
    "DF.to_csv(\"Stack.csv\",index=False)\n",
    "DF.shape"
   ]
  },
  {
   "cell_type": "markdown",
   "metadata": {},
   "source": [
    "# Trying out different ML Models"
   ]
  },
  {
   "cell_type": "markdown",
   "metadata": {},
   "source": [
    "# DecisionTree"
   ]
  },
  {
   "cell_type": "code",
   "execution_count": 55,
   "metadata": {},
   "outputs": [],
   "source": [
    "#DecisionTree = Pipeline(steps=[('preprocessor', preprocessor), ('classifier', DecisionTreeClassifier())])\n",
    "DecisionTree = RandomForestClassifier()"
   ]
  },
  {
   "cell_type": "code",
   "execution_count": 56,
   "metadata": {},
   "outputs": [
    {
     "data": {
      "text/plain": [
       "RandomForestClassifier(bootstrap=True, ccp_alpha=0.0, class_weight=None,\n",
       "                       criterion='gini', max_depth=None, max_features='auto',\n",
       "                       max_leaf_nodes=None, max_samples=None,\n",
       "                       min_impurity_decrease=0.0, min_impurity_split=None,\n",
       "                       min_samples_leaf=1, min_samples_split=2,\n",
       "                       min_weight_fraction_leaf=0.0, n_estimators=100,\n",
       "                       n_jobs=None, oob_score=False, random_state=None,\n",
       "                       verbose=0, warm_start=False)"
      ]
     },
     "execution_count": 56,
     "metadata": {},
     "output_type": "execute_result"
    }
   ],
   "source": [
    "DecisionTree.fit(x_train,y_train)"
   ]
  },
  {
   "cell_type": "code",
   "execution_count": 57,
   "metadata": {},
   "outputs": [],
   "source": [
    "DT_train_pred = DecisionTree.predict(x_train)\n",
    "DT_test_pred = DecisionTree.predict(x_test)"
   ]
  },
  {
   "cell_type": "code",
   "execution_count": 58,
   "metadata": {},
   "outputs": [
    {
     "name": "stdout",
     "output_type": "stream",
     "text": [
      "1.0\n",
      "0.9624391665093681\n"
     ]
    }
   ],
   "source": [
    "print(precision_score(y_train, DT_train_pred, average='macro'))\n",
    "print(precision_score(y_test, DT_test_pred, average='macro'))"
   ]
  },
  {
   "cell_type": "code",
   "execution_count": 59,
   "metadata": {},
   "outputs": [
    {
     "data": {
      "text/plain": [
       "array([0.73994424, 0.26005576])"
      ]
     },
     "execution_count": 59,
     "metadata": {},
     "output_type": "execute_result"
    }
   ],
   "source": [
    "DecisionTree.feature_importances_"
   ]
  },
  {
   "cell_type": "markdown",
   "metadata": {},
   "source": [
    "# Logistc Regression"
   ]
  },
  {
   "cell_type": "code",
   "execution_count": 62,
   "metadata": {},
   "outputs": [],
   "source": [
    "Log_Reg = Pipeline(steps=[('SMOTE', SMOTE()), ('classifier', LogisticRegression())])\n",
    "#Log_Reg = LogisticRegression()"
   ]
  },
  {
   "cell_type": "code",
   "execution_count": 63,
   "metadata": {},
   "outputs": [
    {
     "data": {
      "text/plain": [
       "Pipeline(steps=[('SMOTE',\n",
       "                 SMOTE(k=None, k_neighbors=5, kind='regular', m=None,\n",
       "                       m_neighbors=10, n_jobs=1, out_step=0.5,\n",
       "                       random_state=None, ratio='auto', svm_estimator=None)),\n",
       "                ('classifier',\n",
       "                 LogisticRegression(C=1.0, class_weight=None, dual=False,\n",
       "                                    fit_intercept=True, intercept_scaling=1,\n",
       "                                    l1_ratio=None, max_iter=100,\n",
       "                                    multi_class='auto', n_jobs=None,\n",
       "                                    penalty='l2', random_state=None,\n",
       "                                    solver='lbfgs', tol=0.0001, verbose=0,\n",
       "                                    warm_start=False))])"
      ]
     },
     "execution_count": 63,
     "metadata": {},
     "output_type": "execute_result"
    }
   ],
   "source": [
    "Log_Reg.fit(x_train,y_train)"
   ]
  },
  {
   "cell_type": "code",
   "execution_count": 64,
   "metadata": {},
   "outputs": [],
   "source": [
    "Log_train_pred = Log_Reg.predict(x_train)\n",
    "Log_test_pred = Log_Reg.predict(x_test)"
   ]
  },
  {
   "cell_type": "code",
   "execution_count": 65,
   "metadata": {},
   "outputs": [
    {
     "name": "stdout",
     "output_type": "stream",
     "text": [
      "0.8954665987594986\n",
      "0.9021785712727097\n"
     ]
    }
   ],
   "source": [
    "print(precision_score(y_train, Log_train_pred, average='macro'))\n",
    "print(precision_score(y_test, Log_test_pred, average='macro'))"
   ]
  },
  {
   "cell_type": "code",
   "execution_count": 66,
   "metadata": {},
   "outputs": [
    {
     "name": "stdout",
     "output_type": "stream",
     "text": [
      "0.9602182011708356\n",
      "0.9667908131595282\n"
     ]
    }
   ],
   "source": [
    "print(accuracy_score(y_train, Log_train_pred))\n",
    "print(accuracy_score(y_test, Log_test_pred))"
   ]
  },
  {
   "cell_type": "markdown",
   "metadata": {},
   "source": [
    "##  Classification Report Logistic Regression "
   ]
  },
  {
   "cell_type": "code",
   "execution_count": 67,
   "metadata": {},
   "outputs": [
    {
     "name": "stdout",
     "output_type": "stream",
     "text": [
      "              precision    recall  f1-score   support\n",
      "\n",
      "           0       0.99      0.97      0.98      2858\n",
      "           1       0.82      0.91      0.86       364\n",
      "\n",
      "    accuracy                           0.97      3222\n",
      "   macro avg       0.90      0.94      0.92      3222\n",
      "weighted avg       0.97      0.97      0.97      3222\n",
      "\n"
     ]
    }
   ],
   "source": [
    "print(classification_report(y_test,Log_test_pred))"
   ]
  },
  {
   "cell_type": "markdown",
   "metadata": {},
   "source": [
    "# Logistic Regression Without SMOTE()"
   ]
  },
  {
   "cell_type": "code",
   "execution_count": 68,
   "metadata": {},
   "outputs": [],
   "source": [
    "Log_Reg = LogisticRegression()"
   ]
  },
  {
   "cell_type": "code",
   "execution_count": 69,
   "metadata": {},
   "outputs": [
    {
     "name": "stdout",
     "output_type": "stream",
     "text": [
      "0.962133502228603\n",
      "0.97000259000259\n",
      "0.9648749334752528\n",
      "0.972998137802607\n"
     ]
    }
   ],
   "source": [
    "Log_Reg.fit(x_train,y_train)\n",
    "Log_train_pred = Log_Reg.predict(x_train)\n",
    "Log_test_pred = Log_Reg.predict(x_test)\n",
    "print(precision_score(y_train, Log_train_pred, average='macro'))\n",
    "print(precision_score(y_test, Log_test_pred, average='macro'))\n",
    "print(accuracy_score(y_train, Log_train_pred))\n",
    "print(accuracy_score(y_test, Log_test_pred))"
   ]
  },
  {
   "cell_type": "markdown",
   "metadata": {},
   "source": [
    "# Classification Report and Confusion Matrix"
   ]
  },
  {
   "cell_type": "code",
   "execution_count": 70,
   "metadata": {},
   "outputs": [
    {
     "name": "stdout",
     "output_type": "stream",
     "text": [
      "Classification Report:\n",
      "              precision    recall  f1-score   support\n",
      "\n",
      "           0       0.97      1.00      0.98      2858\n",
      "           1       0.97      0.79      0.87       364\n",
      "\n",
      "    accuracy                           0.97      3222\n",
      "   macro avg       0.97      0.89      0.93      3222\n",
      "weighted avg       0.97      0.97      0.97      3222\n",
      "\n",
      "Confusion Matrix:\n",
      "[[2848   10]\n",
      " [  77  287]]\n"
     ]
    }
   ],
   "source": [
    "print(\"Classification Report:\")\n",
    "print(classification_report(y_test,Log_test_pred))\n",
    "print(\"Confusion Matrix:\")\n",
    "print(confusion_matrix(y_test,Log_test_pred))"
   ]
  },
  {
   "cell_type": "code",
   "execution_count": 71,
   "metadata": {},
   "outputs": [
    {
     "data": {
      "text/plain": [
       "array([[19.90052449,  5.99973572]])"
      ]
     },
     "execution_count": 71,
     "metadata": {},
     "output_type": "execute_result"
    }
   ],
   "source": [
    "Log_Reg.coef_"
   ]
  },
  {
   "cell_type": "markdown",
   "metadata": {},
   "source": [
    "* ## By comparing different models and different techniques logistic regression seems to be predicting more accurately which can be evident from Classification Report"
   ]
  },
  {
   "cell_type": "markdown",
   "metadata": {},
   "source": [
    "* ## By comparing the results of logistic regression with SMOTE and without SMOTE.Logistic Regression without SMOTE is giving the precision vaue of 97 for both 0 and 1.so using the same for predicting the \"Customer category\" as below"
   ]
  },
  {
   "cell_type": "markdown",
   "metadata": {},
   "source": [
    "# Predicting on the test_data"
   ]
  },
  {
   "cell_type": "code",
   "execution_count": 72,
   "metadata": {},
   "outputs": [],
   "source": [
    "test_data_pred = Log_Reg.predict(test_data)"
   ]
  },
  {
   "cell_type": "code",
   "execution_count": 73,
   "metadata": {},
   "outputs": [],
   "source": [
    "df  = pd.read_csv(\"test.csv\")"
   ]
  },
  {
   "cell_type": "markdown",
   "metadata": {},
   "source": [
    "### Exporting the results to CSV format to upload in hackererth platform"
   ]
  },
  {
   "cell_type": "code",
   "execution_count": 74,
   "metadata": {},
   "outputs": [
    {
     "data": {
      "text/plain": [
       "(7160, 2)"
      ]
     },
     "execution_count": 74,
     "metadata": {},
     "output_type": "execute_result"
    }
   ],
   "source": [
    "DF = pd.DataFrame(list(zip(df['customer_id'],test_data_pred)),columns=['customer_id','customer_category'])\n",
    "DF.to_csv(\"Decision.csv\",index=False)\n",
    "DF.shape"
   ]
  },
  {
   "cell_type": "markdown",
   "metadata": {},
   "source": [
    "### The result for the above predicted values is attached below."
   ]
  },
  {
   "attachments": {
    "image.png": {
     "image/png": "[encoded data removed]"
    }
   },
   "cell_type": "markdown",
   "metadata": {},
   "source": [
    "# ![image.png](attachment:image.png)"
   ]
  },
  {
   "cell_type": "code",
   "execution_count": null,
   "metadata": {},
   "outputs": [],
   "source": []
  }
 ],
 "metadata": {
  "kernelspec": {
   "display_name": "Python 3",
   "language": "python",
   "name": "python3"
  },
  "language_info": {
   "codemirror_mode": {
    "name": "ipython",
    "version": 3
   },
   "file_extension": ".py",
   "mimetype": "text/x-python",
   "name": "python",
   "nbconvert_exporter": "python",
   "pygments_lexer": "ipython3",
   "version": "3.6.9"
  }
 },
 "nbformat": 4,
 "nbformat_minor": 4
}
